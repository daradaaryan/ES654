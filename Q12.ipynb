{
 "cells": [
  {
   "cell_type": "markdown",
   "id": "85852f5b",
   "metadata": {},
   "source": [
    "# Write a small piece of code to explain broadcasting in numpy."
   ]
  },
  {
   "cell_type": "markdown",
   "id": "04e931e9",
   "metadata": {},
   "source": [
    "Broadcasting in numpy arrays is done to operate between arrays of different dimensions. Usually they have the same dimension and otherwise the operation is undefined but in special cases, numpy broadcasts the arrays to produce a valid results."
   ]
  },
  {
   "cell_type": "code",
   "execution_count": 2,
   "id": "36c48452",
   "metadata": {},
   "outputs": [
    {
     "name": "stdout",
     "output_type": "stream",
     "text": [
      "a*b : \n",
      "[[ 3  6  9]\n",
      " [21 12  6]\n",
      " [24  6  3]]\n",
      "a+b : \n",
      "[[ 4  5  6]\n",
      " [10  7  5]\n",
      " [11  5  4]]\n",
      "b*c : \n",
      "[18 27  6]\n",
      "b+c : \n",
      "[ 9 12  5]\n",
      "a*c : \n",
      "[[ 6 18  6]\n",
      " [42 36  4]\n",
      " [48 18  2]]\n",
      "a+c : \n",
      "[[ 7 11  5]\n",
      " [13 13  4]\n",
      " [14 11  3]]\n"
     ]
    }
   ],
   "source": [
    "import numpy as np\n",
    "a=np.array([[1,2,3],\n",
    "            [7,4,2],\n",
    "            [8,2,1]])\n",
    "b=np.array([3])\n",
    "c=np.array([6,9,2])\n",
    "\n",
    "print(f\"a*b : \\n{a*b}\")\n",
    "print(f\"a+b : \\n{a+b}\")\n",
    "print(f\"b*c : \\n{b*c}\")\n",
    "print(f\"b+c : \\n{b+c}\")\n",
    "print(f\"a*c : \\n{a*c}\")\n",
    "print(f\"a+c : \\n{a+c}\")"
   ]
  },
  {
   "cell_type": "markdown",
   "id": "82f133d7",
   "metadata": {},
   "source": [
    "However broadcasting between 2 arrays with different dimensions is only possible when the dimensions compared are equal or if one of them is unity, otherwise it gives an error"
   ]
  },
  {
   "cell_type": "code",
   "execution_count": 5,
   "id": "c98a19d1",
   "metadata": {},
   "outputs": [
    {
     "ename": "TypeError",
     "evalue": "Field elements must be 2- or 3-tuples, got '1'",
     "output_type": "error",
     "traceback": [
      "\u001b[0;31m---------------------------------------------------------------------------\u001b[0m",
      "\u001b[0;31mTypeError\u001b[0m                                 Traceback (most recent call last)",
      "Cell \u001b[0;32mIn[5], line 5\u001b[0m\n\u001b[1;32m      1\u001b[0m \u001b[38;5;28;01mimport\u001b[39;00m \u001b[38;5;21;01mnumpy\u001b[39;00m \u001b[38;5;28;01mas\u001b[39;00m \u001b[38;5;21;01mnp\u001b[39;00m\n\u001b[1;32m      2\u001b[0m a\u001b[38;5;241m=\u001b[39mnp\u001b[38;5;241m.\u001b[39marray([[\u001b[38;5;241m1\u001b[39m,\u001b[38;5;241m2\u001b[39m,\u001b[38;5;241m3\u001b[39m],\n\u001b[1;32m      3\u001b[0m             [\u001b[38;5;241m7\u001b[39m,\u001b[38;5;241m4\u001b[39m,\u001b[38;5;241m2\u001b[39m],\n\u001b[1;32m      4\u001b[0m             [\u001b[38;5;241m8\u001b[39m,\u001b[38;5;241m2\u001b[39m,\u001b[38;5;241m1\u001b[39m]])\n\u001b[0;32m----> 5\u001b[0m b\u001b[38;5;241m=\u001b[39m\u001b[43mnp\u001b[49m\u001b[38;5;241;43m.\u001b[39;49m\u001b[43marray\u001b[49m\u001b[43m(\u001b[49m\u001b[43m[\u001b[49m\u001b[38;5;241;43m6\u001b[39;49m\u001b[43m,\u001b[49m\u001b[38;5;241;43m9\u001b[39;49m\u001b[43m,\u001b[49m\u001b[38;5;241;43m2\u001b[39;49m\u001b[43m]\u001b[49m\u001b[43m,\u001b[49m\n\u001b[1;32m      6\u001b[0m \u001b[43m           \u001b[49m\u001b[43m[\u001b[49m\u001b[38;5;241;43m1\u001b[39;49m\u001b[43m,\u001b[49m\u001b[38;5;241;43m4\u001b[39;49m\u001b[43m,\u001b[49m\u001b[38;5;241;43m5\u001b[39;49m\u001b[43m]\u001b[49m\u001b[43m)\u001b[49m\n\u001b[1;32m      8\u001b[0m \u001b[38;5;28mprint\u001b[39m(\u001b[38;5;124mf\u001b[39m\u001b[38;5;124m\"\u001b[39m\u001b[38;5;124ma*b : \u001b[39m\u001b[38;5;130;01m\\n\u001b[39;00m\u001b[38;5;132;01m{\u001b[39;00ma\u001b[38;5;241m*\u001b[39mb\u001b[38;5;132;01m}\u001b[39;00m\u001b[38;5;124m\"\u001b[39m)\n\u001b[1;32m      9\u001b[0m \u001b[38;5;28mprint\u001b[39m(\u001b[38;5;124mf\u001b[39m\u001b[38;5;124m\"\u001b[39m\u001b[38;5;124ma+b : \u001b[39m\u001b[38;5;130;01m\\n\u001b[39;00m\u001b[38;5;132;01m{\u001b[39;00ma\u001b[38;5;241m+\u001b[39mb\u001b[38;5;132;01m}\u001b[39;00m\u001b[38;5;124m\"\u001b[39m)\n",
      "\u001b[0;31mTypeError\u001b[0m: Field elements must be 2- or 3-tuples, got '1'"
     ]
    }
   ],
   "source": [
    "import numpy as np\n",
    "a=np.array([[1,2,3],\n",
    "            [7,4,2],\n",
    "            [8,2,1]])\n",
    "b=np.array([6,9,2],\n",
    "           [1,4,5])\n",
    "\n",
    "print(f\"a*b : \\n{a*b}\")\n",
    "print(f\"a+b : \\n{a+b}\")"
   ]
  }
 ],
 "metadata": {
  "kernelspec": {
   "display_name": "Python 3 (ipykernel)",
   "language": "python",
   "name": "python3"
  },
  "language_info": {
   "codemirror_mode": {
    "name": "ipython",
    "version": 3
   },
   "file_extension": ".py",
   "mimetype": "text/x-python",
   "name": "python",
   "nbconvert_exporter": "python",
   "pygments_lexer": "ipython3",
   "version": "3.11.1"
  }
 },
 "nbformat": 4,
 "nbformat_minor": 5
}
