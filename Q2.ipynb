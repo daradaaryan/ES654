{
 "cells": [
  {
   "cell_type": "markdown",
   "id": "f40ef6dd",
   "metadata": {},
   "source": [
    "# Q2 Write Python code to multiply the above two matrices. Solve using list of lists and then use numpy.\n",
    "# Compare the timing of both solutions. Which one is faster? Why?\n"
   ]
  },
  {
   "cell_type": "code",
   "execution_count": 26,
   "id": "38111f87",
   "metadata": {},
   "outputs": [
    {
     "name": "stdout",
     "output_type": "stream",
     "text": [
      "[199, 217, 256]\n",
      "[126, 216, 191]\n",
      "[103, 143, 130]\n",
      "\n",
      "\n",
      "Time: 0.0012958049774169922\n"
     ]
    }
   ],
   "source": [
    "import time\n",
    "# a) Using List of Lists:\n",
    "\n",
    "A = [[9,8,3,1,2,7,9,1,4,6,4],\n",
    "     [6,5,2,0,9,4,1,6,3,2,3],\n",
    "     [0,0,2,1,4,2,3,5,5,3,1]]\n",
    "\n",
    "B = [[1,2,3],\n",
    "     [4,5,6],\n",
    "     [7,8,9],\n",
    "     [1,0,1],\n",
    "     [2,8,1],\n",
    "     [4,5,6],\n",
    "     [5,1,2],\n",
    "     [1,5,7],\n",
    "     [9,8,6],\n",
    "     [1,5,6],\n",
    "     [4,2,6]]\n",
    "\n",
    "AB = [[0,0,0],\n",
    "      [0,0,0],\n",
    "      [0,0,0]]\n",
    "\n",
    "start=time.time()\n",
    "\n",
    "for a in range(len(A)): # Row-wise for Matrix 1\n",
    "   for b in range(len(B[0])): # Column wise for Matrix 2\n",
    "       for k in range(len(B)): # k times multiplication and consequently addition\n",
    "           AB[a][b] = AB[a][b] + A[a][k] * B[k][b]\n",
    "\n",
    "for ab in AB:\n",
    "   print(ab)\n",
    "\n",
    "print('\\n')\n",
    "\n",
    "print(f'Time: {time.time() - start}')\n"
   ]
  },
  {
   "cell_type": "code",
   "execution_count": 19,
   "id": "48ba2e83",
   "metadata": {},
   "outputs": [
    {
     "name": "stdout",
     "output_type": "stream",
     "text": [
      "[[199 217 256]\n",
      " [126 216 191]\n",
      " [103 143 130]] \n",
      "\n",
      "Time: 0.0006029605865478516\n"
     ]
    }
   ],
   "source": [
    "# b) using numpy array\n",
    "import numpy as np\n",
    "\n",
    "A = [[9,8,3,1,2,7,9,1,4,6,4],\n",
    "     [6,5,2,0,9,4,1,6,3,2,3],\n",
    "     [0,0,2,1,4,2,3,5,5,3,1]]\n",
    "\n",
    "B = [[1,2,3],\n",
    "     [4,5,6],\n",
    "     [7,8,9],\n",
    "     [1,0,1],\n",
    "     [2,8,1],\n",
    "     [4,5,6],\n",
    "     [5,1,2],\n",
    "     [1,5,7],\n",
    "     [9,8,6],\n",
    "     [1,5,6],\n",
    "     [4,2,6]]\n",
    "\n",
    "start=time.time()\n",
    "\n",
    "print(np.matmul(A,B),'\\n')\n",
    "\n",
    "print(f'Time: {time.time() - start}')"
   ]
  },
  {
   "cell_type": "markdown",
   "id": "db7face7",
   "metadata": {},
   "source": [
    "From the run time it is clear that the numpy timing is faster.\n",
    "\n",
    "The reason being that how numpy treats its arrays vs how python treats its lists. Lists can have different data types and numpy arrays only has the same data type so that time is saved in evaluating the data type.\n",
    "\n",
    "Another reason is that numpy carries out multiply operations parallely hence making it very fast in multiplying matrices."
   ]
  }
 ],
 "metadata": {
  "kernelspec": {
   "display_name": "Python 3 (ipykernel)",
   "language": "python",
   "name": "python3"
  },
  "language_info": {
   "codemirror_mode": {
    "name": "ipython",
    "version": 3
   },
   "file_extension": ".py",
   "mimetype": "text/x-python",
   "name": "python",
   "nbconvert_exporter": "python",
   "pygments_lexer": "ipython3",
   "version": "3.11.1"
  }
 },
 "nbformat": 4,
 "nbformat_minor": 5
}
