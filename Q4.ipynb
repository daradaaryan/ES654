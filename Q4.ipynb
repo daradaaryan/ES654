{
 "cells": [
  {
   "cell_type": "markdown",
   "id": "5eafc98f",
   "metadata": {},
   "source": [
    "# Q4 What is the gradient of the following function with respect to x and y?\n",
    "#                                             (x^2)y + (y^3)sinx\n"
   ]
  },
  {
   "cell_type": "markdown",
   "id": "87798258",
   "metadata": {},
   "source": [
    "Gradient wrt x: partial derivative wrt x =  2xy+(y^3)cosx\n",
    "\n",
    "Gradient wrt y: partial derivative wrt y =  (x^2)+3(y^2)sinx"
   ]
  }
 ],
 "metadata": {
  "kernelspec": {
   "display_name": "Python 3 (ipykernel)",
   "language": "python",
   "name": "python3"
  },
  "language_info": {
   "codemirror_mode": {
    "name": "ipython",
    "version": 3
   },
   "file_extension": ".py",
   "mimetype": "text/x-python",
   "name": "python",
   "nbconvert_exporter": "python",
   "pygments_lexer": "ipython3",
   "version": "3.11.1"
  }
 },
 "nbformat": 4,
 "nbformat_minor": 5
}
