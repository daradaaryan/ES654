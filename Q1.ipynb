{
 "cells": [
  {
   "cell_type": "markdown",
   "id": "4956064a",
   "metadata": {},
   "source": [
    "# Q1 How many multiplications and additions do you need to perform a matrix multiplication between a (n, k) and (k, m) matrix? Explain."
   ]
  },
  {
   "cell_type": "markdown",
   "id": "b9c199a3",
   "metadata": {},
   "source": [
    "# Answer:\n",
    "\n",
    "In the multiplication, the ith row of matrix 1 multiplies with the columns of matrix 2 and then the k products are added subsequently. It is repeated for all m columns of matrix 2 and all n rows of column 1.\n",
    "\n",
    "In every row/column multiplication, addition is performed k times, multiplicationD performed k-1 times (of k numbers)."
   ]
  }
 ],
 "metadata": {
  "kernelspec": {
   "display_name": "Python 3 (ipykernel)",
   "language": "python",
   "name": "python3"
  },
  "language_info": {
   "codemirror_mode": {
    "name": "ipython",
    "version": 3
   },
   "file_extension": ".py",
   "mimetype": "text/x-python",
   "name": "python",
   "nbconvert_exporter": "python",
   "pygments_lexer": "ipython3",
   "version": "3.11.1"
  }
 },
 "nbformat": 4,
 "nbformat_minor": 5
}
