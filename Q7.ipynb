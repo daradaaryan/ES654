{
 "cells": [
  {
   "cell_type": "markdown",
   "id": "d72458ea",
   "metadata": {},
   "source": [
    "# Create a Python nested dictionary to represent hierarchical information. We want to store record of students and their marks. Something like:\n",
    "\n",
    "2022\n",
    "Branch 1\n",
    "Roll Number: 1, Name: N, Marks:\n",
    "Maths: 100, English: 70 …\n",
    "Branch 2\n",
    "2023\n",
    "Branch 1\n",
    "Branch 2\n",
    "2024\n",
    "Branch 1\n",
    "Branch 2\n",
    "2025\n",
    "Branch 1\n",
    "Branch 2"
   ]
  },
  {
   "cell_type": "code",
   "execution_count": 7,
   "id": "a8cf59c7",
   "metadata": {},
   "outputs": [
    {
     "name": "stdout",
     "output_type": "stream",
     "text": [
      "{2022: {'CSE': {'1': {'Name': 'Aaryan', 'Roll Number': 21110001, 'Marks:': {'Maths': 100, 'English': 90, 'Science': 90}}, '2': {'Name': 'Abhay', 'Roll Number': 21110004, 'Marks:': {'Maths': 100, 'English': 90, 'Science': 90}}}, 'EE': {'1': {'Name': 'Vaibhavi', 'Roll Number': 21110001, 'Marks:': {'Maths': 100, 'English': 90, 'Science': 90}}, '2': {'Name': 'Sharika', 'Roll Number': 21110004, 'Marks:': {'Maths': 100, 'English': 90, 'Science': 90}}}}, 2021: {'CSE': {'1': {'Name': 'Abhinav', 'Roll Number': 21110007, 'Marks:': {'Maths': 100, 'English': 90, 'Science': 90}}, '2': {'Name': 'Anmol', 'Roll Number': 21110026, 'Marks:': {'Maths': 100, 'English': 90, 'Science': 90}}}, 'EE': {'1': {'Name': 'Atal', 'Roll Number': 21110037, 'Marks:': {'Maths': 100, 'English': 90, 'Science': 90}}, '2': {'Name': 'Yash', 'Roll Number': 21110236, 'Marks:': {'Maths': 100, 'English': 90, 'Science': 90}}}}}\n"
     ]
    }
   ],
   "source": [
    "Years={\n",
    "2022 : {\n",
    "    'CSE': {'1':{'Name':'Aaryan','Roll Number': 21110001, 'Marks:' : {'Maths': 100, 'English' : 90, 'Science': 90}},\n",
    "               '2': {'Name':'Abhay','Roll Number': 21110004, 'Marks:' : {'Maths': 100, 'English' : 90, 'Science': 90}}},\n",
    "    'EE': {'1': {'Name':'Vaibhavi','Roll Number': 21110001, 'Marks:' : {'Maths': 100, 'English' : 90, 'Science': 90}},\n",
    "               '2':{'Name':'Sharika','Roll Number': 21110004, 'Marks:' : {'Maths': 100, 'English' : 90, 'Science': 90}}}\n",
    "},\n",
    "2021 : {\n",
    "    'CSE': {'1':{'Name':'Abhinav','Roll Number': 21110007, 'Marks:' : {'Maths': 100, 'English' : 90, 'Science': 90}},\n",
    "               '2': {'Name':'Anmol','Roll Number': 21110026, 'Marks:' : {'Maths': 100, 'English' : 90, 'Science': 90}}},\n",
    "    'EE': {'1': {'Name':'Atal','Roll Number': 21110037, 'Marks:' : {'Maths': 100, 'English' : 90, 'Science': 90}},\n",
    "               '2':{'Name':'Yash','Roll Number': 21110236, 'Marks:' : {'Maths': 100, 'English' : 90, 'Science': 90}}}\n",
    "}\n",
    "}\n",
    "print(Years)"
   ]
  }
 ],
 "metadata": {
  "kernelspec": {
   "display_name": "Python 3 (ipykernel)",
   "language": "python",
   "name": "python3"
  },
  "language_info": {
   "codemirror_mode": {
    "name": "ipython",
    "version": 3
   },
   "file_extension": ".py",
   "mimetype": "text/x-python",
   "name": "python",
   "nbconvert_exporter": "python",
   "pygments_lexer": "ipython3",
   "version": "3.11.1"
  }
 },
 "nbformat": 4,
 "nbformat_minor": 5
}
