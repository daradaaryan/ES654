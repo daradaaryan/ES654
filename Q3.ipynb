{
 "cells": [
  {
   "cell_type": "markdown",
   "id": "d2c1eaad",
   "metadata": {},
   "source": [
    "# Finding the highest element in a list requires one pass of the array. Finding the second highest element requires 2 passes of the the array. \n",
    "\n",
    "# a) Using this method, what is the time complexity of finding the median of the array? \n",
    "\n",
    "# b) Can you suggest a better method? \n",
    "\n",
    "# c) Can you implement both these methods in Python and compare against numpy.median routine in terms of time?"
   ]
  },
  {
   "cell_type": "markdown",
   "id": "968c7b04",
   "metadata": {},
   "source": [
    "a) Time complexity for one pass of the array is n. n being the number of elements in the array. Also, the median is the (n+1)/2 th largest element in the array (For odd n) and average of n/2 th and n/2+1 th element.\n",
    "\n",
    "Hence it will have a total of n*(n+1)/2= O(n^2) time complexity."
   ]
  },
  {
   "cell_type": "markdown",
   "id": "8721bddb",
   "metadata": {},
   "source": [
    "b) A better method would be to sort the elements of the array in the increasing order in O(nlogn) complexity and then easily find the median by the index."
   ]
  },
  {
   "cell_type": "markdown",
   "id": "52c20054",
   "metadata": {},
   "source": [
    "c) Implementation and comparison in Python:"
   ]
  },
  {
   "cell_type": "code",
   "execution_count": 23,
   "id": "b1067865",
   "metadata": {},
   "outputs": [
    {
     "name": "stdout",
     "output_type": "stream",
     "text": [
      "5\n",
      "\n",
      "\n",
      "Time: 0.0005068778991699219\n"
     ]
    }
   ],
   "source": [
    "import numpy as np\n",
    "import time\n",
    "\n",
    "arr=np.array([7,6,9,8,5,2,1,4,3]) #9 element array\n",
    "high=np.array([0,0,0,0,0]) #5 elements for 5 passes (5th highest number is median)\n",
    "\n",
    "start=time.time()\n",
    "\n",
    "for i in range(5):\n",
    "    if i==0:\n",
    "        for j in arr:\n",
    "            if j>high[i]:\n",
    "                high[i]=j\n",
    "    else:\n",
    "        for j in arr:\n",
    "            if high[i-1]>j>high[i]:\n",
    "                high[i]=j\n",
    "                \n",
    "print(high[4])\n",
    "\n",
    "print('\\n')\n",
    "\n",
    "print(f'Time: {time.time() - start}')"
   ]
  },
  {
   "cell_type": "code",
   "execution_count": 24,
   "id": "041eb9e8",
   "metadata": {},
   "outputs": [
    {
     "name": "stdout",
     "output_type": "stream",
     "text": [
      "5\n",
      "\n",
      "\n",
      "Time: 0.0004820823669433594\n"
     ]
    }
   ],
   "source": [
    "import numpy as np\n",
    "import time\n",
    "\n",
    "arr=np.array([7,6,9,8,5,2,1,4,3]) #9 element array\n",
    "\n",
    "start=time.time()\n",
    "\n",
    "np.sort(arr)\n",
    "print(arr[4])\n",
    "\n",
    "print('\\n')\n",
    "\n",
    "print(f'Time: {time.time() - start}')"
   ]
  },
  {
   "cell_type": "code",
   "execution_count": 25,
   "id": "79e23747",
   "metadata": {},
   "outputs": [
    {
     "name": "stdout",
     "output_type": "stream",
     "text": [
      "5.0\n",
      "\n",
      "\n",
      "Time: 0.00027298927307128906\n"
     ]
    }
   ],
   "source": [
    "import numpy as np\n",
    "import time\n",
    "\n",
    "\n",
    "arr=np.array([7,6,9,8,5,2,1,4,3]) #9 element array\n",
    "\n",
    "start=time.time() \n",
    "\n",
    "print(np.median(arr))\n",
    "\n",
    "print('\\n')\n",
    "\n",
    "print(f'Time: {time.time() - start}')"
   ]
  },
  {
   "cell_type": "markdown",
   "id": "2f12f3d3",
   "metadata": {},
   "source": [
    "The numpy.median method is faster than the other two methods."
   ]
  }
 ],
 "metadata": {
  "kernelspec": {
   "display_name": "Python 3 (ipykernel)",
   "language": "python",
   "name": "python3"
  },
  "language_info": {
   "codemirror_mode": {
    "name": "ipython",
    "version": 3
   },
   "file_extension": ".py",
   "mimetype": "text/x-python",
   "name": "python",
   "nbconvert_exporter": "python",
   "pygments_lexer": "ipython3",
   "version": "3.11.1"
  }
 },
 "nbformat": 4,
 "nbformat_minor": 5
}
