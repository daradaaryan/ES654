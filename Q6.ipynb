{
 "cells": [
  {
   "cell_type": "markdown",
   "id": "2ea1783d",
   "metadata": {},
   "source": [
    "# Use sympy to confirm that you obtain the same gradient analytically.\n",
    "# (x^2)y + (y^3)sinx"
   ]
  },
  {
   "cell_type": "code",
   "execution_count": 8,
   "id": "19506a1f",
   "metadata": {},
   "outputs": [
    {
     "name": "stdout",
     "output_type": "stream",
     "text": [
      "(2*R.x*R.y + R.y**3*cos(R.x))*R.i + (R.x**2 + 3*R.y**2*sin(R.x))*R.j\n"
     ]
    }
   ],
   "source": [
    "from sympy.vector import CoordSys3D, gradient\n",
    "import sympy\n",
    "R = CoordSys3D('R')\n",
    "s1 = (R.x**2)*R.y + (R.y**3)*sympy.sin(R.x)\n",
    "print(gradient(s1))"
   ]
  }
 ],
 "metadata": {
  "kernelspec": {
   "display_name": "Python 3 (ipykernel)",
   "language": "python",
   "name": "python3"
  },
  "language_info": {
   "codemirror_mode": {
    "name": "ipython",
    "version": 3
   },
   "file_extension": ".py",
   "mimetype": "text/x-python",
   "name": "python",
   "nbconvert_exporter": "python",
   "pygments_lexer": "ipython3",
   "version": "3.11.1"
  }
 },
 "nbformat": 4,
 "nbformat_minor": 5
}
