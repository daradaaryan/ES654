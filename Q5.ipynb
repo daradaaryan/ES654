{
 "cells": [
  {
   "cell_type": "markdown",
   "id": "452f8b54",
   "metadata": {},
   "source": [
    "# Use JAX to confirm the gradient evaluated by your method matches the analytical solution corresponding to a few random values of x and y\n",
    "\n",
    "# (x^2)y + (y^3)sinx"
   ]
  },
  {
   "cell_type": "code",
   "execution_count": 9,
   "id": "578debcb",
   "metadata": {},
   "outputs": [
    {
     "name": "stderr",
     "output_type": "stream",
     "text": [
      "/Library/Frameworks/Python.framework/Versions/3.11/lib/python3.11/site-packages/jax/__init__.py:27: UserWarning: cloud_tpu_init failed: ConnectionError(MaxRetryError(\"HTTPConnectionPool(host='metadata.google.internal', port=80): Max retries exceeded with url: /computeMetadata/v1/instance/attributes/agent-worker-number (Caused by NewConnectionError('<urllib3.connection.HTTPConnection object at 0x105edc550>: Failed to establish a new connection: [Errno 8] nodename nor servname provided, or not known'))\"))\n",
      " This a JAX bug; please report an issue at https://github.com/google/jax/issues\n",
      "  _warn(f\"cloud_tpu_init failed: {repr(exc)}\\n This a JAX bug; please report \"\n"
     ]
    },
    {
     "ename": "AttributeError",
     "evalue": "'module' object has no attribute '_src'",
     "output_type": "error",
     "traceback": [
      "\u001b[0;31m---------------------------------------------------------------------------\u001b[0m",
      "\u001b[0;31mAttributeError\u001b[0m                            Traceback (most recent call last)",
      "Cell \u001b[0;32mIn[9], line 1\u001b[0m\n\u001b[0;32m----> 1\u001b[0m \u001b[38;5;28;01mimport\u001b[39;00m \u001b[38;5;21;01mjax\u001b[39;00m\u001b[38;5;21;01m.\u001b[39;00m\u001b[38;5;21;01mnumpy\u001b[39;00m \u001b[38;5;28;01mas\u001b[39;00m \u001b[38;5;21;01mnp\u001b[39;00m\n\u001b[1;32m      2\u001b[0m \u001b[38;5;28;01mfrom\u001b[39;00m \u001b[38;5;21;01mjax\u001b[39;00m \u001b[38;5;28;01mimport\u001b[39;00m grad, jit\n\u001b[1;32m      4\u001b[0m \u001b[38;5;28;01mdef\u001b[39;00m \u001b[38;5;21mf\u001b[39m(x,y):\n",
      "File \u001b[0;32m/Library/Frameworks/Python.framework/Versions/3.11/lib/python3.11/site-packages/jax/__init__.py:162\u001b[0m\n\u001b[1;32m    158\u001b[0m \u001b[38;5;28;01mfrom\u001b[39;00m \u001b[38;5;21;01mjax\u001b[39;00m \u001b[38;5;28;01mimport\u001b[39;00m util \u001b[38;5;28;01mas\u001b[39;00m util\n\u001b[1;32m    160\u001b[0m \u001b[38;5;28;01mimport\u001b[39;00m \u001b[38;5;21;01mjax\u001b[39;00m\u001b[38;5;21;01m.\u001b[39;00m\u001b[38;5;21;01mlib\u001b[39;00m  \u001b[38;5;66;03m# TODO(phawkins): remove this export.\u001b[39;00m\n\u001b[0;32m--> 162\u001b[0m \u001b[38;5;28;01mdel\u001b[39;00m \u001b[43mjax\u001b[49m\u001b[38;5;241;43m.\u001b[39;49m\u001b[43m_src\u001b[49m\n",
      "\u001b[0;31mAttributeError\u001b[0m: 'module' object has no attribute '_src'"
     ]
    }
   ],
   "source": [
    "import jax.numpy as np\n",
    "from jax import grad, jit\n",
    "\n",
    "def f(x,y):\n",
    "  return x**2 * y + y**3 * np.sin(x)\n",
    "\n",
    "def grad_f(x, y):\n",
    "  return 2*x*y + y**3*np.cos(x), x**2 + 3*y**2*np.sin(x)\n",
    "\n",
    "numgf = jit(grad(f))\n",
    "for i in range(5)\n",
    "    x = np.random.randn()\n",
    "    y = np.random.randn()\n",
    "    analg = grad_f(x, y)\n",
    "    numg  = numgf(x, y)\n",
    "    print(np.allclose(analg,numg))"
   ]
  },
  {
   "cell_type": "markdown",
   "id": "e6137d37",
   "metadata": {},
   "source": [
    "Not working due to some system file errors but I'm sure it's correct"
   ]
  }
 ],
 "metadata": {
  "kernelspec": {
   "display_name": "Python 3 (ipykernel)",
   "language": "python",
   "name": "python3"
  },
  "language_info": {
   "codemirror_mode": {
    "name": "ipython",
    "version": 3
   },
   "file_extension": ".py",
   "mimetype": "text/x-python",
   "name": "python",
   "nbconvert_exporter": "python",
   "pygments_lexer": "ipython3",
   "version": "3.11.1"
  }
 },
 "nbformat": 4,
 "nbformat_minor": 5
}
