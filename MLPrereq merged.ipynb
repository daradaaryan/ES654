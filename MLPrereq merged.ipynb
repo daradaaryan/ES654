{
 "cells": [
  {
   "cell_type": "markdown",
   "id": "4956064a",
   "metadata": {},
   "source": [
    "# Q1 How many multiplications and additions do you need to perform a matrix multiplication between a (n, k) and (k, m) matrix? Explain."
   ]
  },
  {
   "cell_type": "markdown",
   "id": "b9c199a3",
   "metadata": {},
   "source": [
    "# Answer:\n",
    "\n",
    "In the multiplication, the ith row of matrix 1 multiplies with the columns of matrix 2 and then the k products are added subsequently. It is repeated for all m columns of matrix 2 and all n rows of column 1.\n",
    "\n",
    "In every row/column multiplication, addition is performed k times, multiplicationD performed k-1 times (of k numbers)."
   ]
  },
  {
   "cell_type": "markdown",
   "id": "f40ef6dd",
   "metadata": {},
   "source": [
    "# Q2 Write Python code to multiply the above two matrices. Solve using list of lists and then use numpy.\n",
    "# Compare the timing of both solutions. Which one is faster? Why?\n"
   ]
  },
  {
   "cell_type": "code",
   "execution_count": 26,
   "id": "38111f87",
   "metadata": {},
   "outputs": [
    {
     "name": "stdout",
     "output_type": "stream",
     "text": [
      "[199, 217, 256]\n",
      "[126, 216, 191]\n",
      "[103, 143, 130]\n",
      "\n",
      "\n",
      "Time: 0.0012958049774169922\n"
     ]
    }
   ],
   "source": [
    "import time\n",
    "# a) Using List of Lists:\n",
    "\n",
    "A = [[9,8,3,1,2,7,9,1,4,6,4],\n",
    "     [6,5,2,0,9,4,1,6,3,2,3],\n",
    "     [0,0,2,1,4,2,3,5,5,3,1]]\n",
    "\n",
    "B = [[1,2,3],\n",
    "     [4,5,6],\n",
    "     [7,8,9],\n",
    "     [1,0,1],\n",
    "     [2,8,1],\n",
    "     [4,5,6],\n",
    "     [5,1,2],\n",
    "     [1,5,7],\n",
    "     [9,8,6],\n",
    "     [1,5,6],\n",
    "     [4,2,6]]\n",
    "\n",
    "AB = [[0,0,0],\n",
    "      [0,0,0],\n",
    "      [0,0,0]]\n",
    "\n",
    "start=time.time()\n",
    "\n",
    "for a in range(len(A)): # Row-wise for Matrix 1\n",
    "   for b in range(len(B[0])): # Column wise for Matrix 2\n",
    "       for k in range(len(B)): # k times multiplication and consequently addition\n",
    "           AB[a][b] = AB[a][b] + A[a][k] * B[k][b]\n",
    "\n",
    "for ab in AB:\n",
    "   print(ab)\n",
    "\n",
    "print('\\n')\n",
    "\n",
    "print(f'Time: {time.time() - start}')\n"
   ]
  },
  {
   "cell_type": "code",
   "execution_count": 19,
   "id": "48ba2e83",
   "metadata": {},
   "outputs": [
    {
     "name": "stdout",
     "output_type": "stream",
     "text": [
      "[[199 217 256]\n",
      " [126 216 191]\n",
      " [103 143 130]] \n",
      "\n",
      "Time: 0.0006029605865478516\n"
     ]
    }
   ],
   "source": [
    "# b) using numpy array\n",
    "import numpy as np\n",
    "\n",
    "A = [[9,8,3,1,2,7,9,1,4,6,4],\n",
    "     [6,5,2,0,9,4,1,6,3,2,3],\n",
    "     [0,0,2,1,4,2,3,5,5,3,1]]\n",
    "\n",
    "B = [[1,2,3],\n",
    "     [4,5,6],\n",
    "     [7,8,9],\n",
    "     [1,0,1],\n",
    "     [2,8,1],\n",
    "     [4,5,6],\n",
    "     [5,1,2],\n",
    "     [1,5,7],\n",
    "     [9,8,6],\n",
    "     [1,5,6],\n",
    "     [4,2,6]]\n",
    "\n",
    "start=time.time()\n",
    "\n",
    "print(np.matmul(A,B),'\\n')\n",
    "\n",
    "print(f'Time: {time.time() - start}')"
   ]
  },
  {
   "cell_type": "markdown",
   "id": "db7face7",
   "metadata": {},
   "source": [
    "From the run time it is clear that the numpy timing is faster.\n",
    "\n",
    "The reason being that how numpy treats its arrays vs how python treats its lists. Lists can have different data types and numpy arrays only has the same data type so that time is saved in evaluating the data type.\n",
    "\n",
    "Another reason is that numpy carries out multiply operations parallely hence making it very fast in multiplying matrices."
   ]
  },
  {
   "cell_type": "markdown",
   "id": "d2c1eaad",
   "metadata": {},
   "source": [
    "# Q3 Finding the highest element in a list requires one pass of the array. Finding the second highest element requires 2 passes of the the array. \n",
    "\n",
    "# a) Using this method, what is the time complexity of finding the median of the array? \n",
    "\n",
    "# b) Can you suggest a better method? \n",
    "\n",
    "# c) Can you implement both these methods in Python and compare against numpy.median routine in terms of time?"
   ]
  },
  {
   "cell_type": "markdown",
   "id": "968c7b04",
   "metadata": {},
   "source": [
    "a) Time complexity for one pass of the array is n. n being the number of elements in the array. Also, the median is the (n+1)/2 th largest element in the array (For odd n) and average of n/2 th and n/2+1 th element.\n",
    "\n",
    "Hence it will have a total of n*(n+1)/2= O(n^2) time complexity."
   ]
  },
  {
   "cell_type": "markdown",
   "id": "8721bddb",
   "metadata": {},
   "source": [
    "b) A better method would be to sort the elements of the array in the increasing order in O(nlogn) complexity and then easily find the median by the index."
   ]
  },
  {
   "cell_type": "markdown",
   "id": "52c20054",
   "metadata": {},
   "source": [
    "c) Implementation and comparison in Python:"
   ]
  },
  {
   "cell_type": "code",
   "execution_count": 23,
   "id": "b1067865",
   "metadata": {},
   "outputs": [
    {
     "name": "stdout",
     "output_type": "stream",
     "text": [
      "5\n",
      "\n",
      "\n",
      "Time: 0.0005068778991699219\n"
     ]
    }
   ],
   "source": [
    "import numpy as np\n",
    "import time\n",
    "\n",
    "arr=np.array([7,6,9,8,5,2,1,4,3]) #9 element array\n",
    "high=np.array([0,0,0,0,0]) #5 elements for 5 passes (5th highest number is median)\n",
    "\n",
    "start=time.time()\n",
    "\n",
    "for i in range(5):\n",
    "    if i==0:\n",
    "        for j in arr:\n",
    "            if j>high[i]:\n",
    "                high[i]=j\n",
    "    else:\n",
    "        for j in arr:\n",
    "            if high[i-1]>j>high[i]:\n",
    "                high[i]=j\n",
    "                \n",
    "print(high[4])\n",
    "\n",
    "print('\\n')\n",
    "\n",
    "print(f'Time: {time.time() - start}')"
   ]
  },
  {
   "cell_type": "code",
   "execution_count": 24,
   "id": "041eb9e8",
   "metadata": {},
   "outputs": [
    {
     "name": "stdout",
     "output_type": "stream",
     "text": [
      "5\n",
      "\n",
      "\n",
      "Time: 0.0004820823669433594\n"
     ]
    }
   ],
   "source": [
    "import numpy as np\n",
    "import time\n",
    "\n",
    "arr=np.array([7,6,9,8,5,2,1,4,3]) #9 element array\n",
    "\n",
    "start=time.time()\n",
    "\n",
    "np.sort(arr)\n",
    "print(arr[4])\n",
    "\n",
    "print('\\n')\n",
    "\n",
    "print(f'Time: {time.time() - start}')"
   ]
  },
  {
   "cell_type": "code",
   "execution_count": 25,
   "id": "79e23747",
   "metadata": {},
   "outputs": [
    {
     "name": "stdout",
     "output_type": "stream",
     "text": [
      "5.0\n",
      "\n",
      "\n",
      "Time: 0.00027298927307128906\n"
     ]
    }
   ],
   "source": [
    "import numpy as np\n",
    "import time\n",
    "\n",
    "\n",
    "arr=np.array([7,6,9,8,5,2,1,4,3]) #9 element array\n",
    "\n",
    "start=time.time() \n",
    "\n",
    "print(np.median(arr))\n",
    "\n",
    "print('\\n')\n",
    "\n",
    "print(f'Time: {time.time() - start}')"
   ]
  },
  {
   "cell_type": "markdown",
   "id": "2f12f3d3",
   "metadata": {},
   "source": [
    "The numpy.median method is faster than the other two methods."
   ]
  },
  {
   "cell_type": "markdown",
   "id": "5eafc98f",
   "metadata": {},
   "source": [
    "# Q4 What is the gradient of the following function with respect to x and y?\n",
    "#                                           $$  (x^2)y + (y^3)sinx $$\n"
   ]
  },
  {
   "cell_type": "markdown",
   "id": "87798258",
   "metadata": {},
   "source": [
    "Gradient wrt x: partial derivative wrt x =  $ 2xy+(y^3)cosx $\n",
    "\n",
    "Gradient wrt y: partial derivative wrt y =  $ (x^2)+3(y^2)sinx $"
   ]
  },
  {
   "cell_type": "markdown",
   "id": "452f8b54",
   "metadata": {},
   "source": [
    "# Q5 Use JAX to confirm the gradient evaluated by your method matches the analytical solution corresponding to a few random values of x and y\n",
    "\n",
    "# $$ (x^2)y + (y^3)sinx $$"
   ]
  },
  {
   "cell_type": "code",
   "execution_count": 9,
   "id": "578debcb",
   "metadata": {},
   "outputs": [
    {
     "name": "stderr",
     "output_type": "stream",
     "text": [
      "/Library/Frameworks/Python.framework/Versions/3.11/lib/python3.11/site-packages/jax/__init__.py:27: UserWarning: cloud_tpu_init failed: ConnectionError(MaxRetryError(\"HTTPConnectionPool(host='metadata.google.internal', port=80): Max retries exceeded with url: /computeMetadata/v1/instance/attributes/agent-worker-number (Caused by NewConnectionError('<urllib3.connection.HTTPConnection object at 0x105edc550>: Failed to establish a new connection: [Errno 8] nodename nor servname provided, or not known'))\"))\n",
      " This a JAX bug; please report an issue at https://github.com/google/jax/issues\n",
      "  _warn(f\"cloud_tpu_init failed: {repr(exc)}\\n This a JAX bug; please report \"\n"
     ]
    },
    {
     "ename": "AttributeError",
     "evalue": "'module' object has no attribute '_src'",
     "output_type": "error",
     "traceback": [
      "\u001b[0;31m---------------------------------------------------------------------------\u001b[0m",
      "\u001b[0;31mAttributeError\u001b[0m                            Traceback (most recent call last)",
      "Cell \u001b[0;32mIn[9], line 1\u001b[0m\n\u001b[0;32m----> 1\u001b[0m \u001b[38;5;28;01mimport\u001b[39;00m \u001b[38;5;21;01mjax\u001b[39;00m\u001b[38;5;21;01m.\u001b[39;00m\u001b[38;5;21;01mnumpy\u001b[39;00m \u001b[38;5;28;01mas\u001b[39;00m \u001b[38;5;21;01mnp\u001b[39;00m\n\u001b[1;32m      2\u001b[0m \u001b[38;5;28;01mfrom\u001b[39;00m \u001b[38;5;21;01mjax\u001b[39;00m \u001b[38;5;28;01mimport\u001b[39;00m grad, jit\n\u001b[1;32m      4\u001b[0m \u001b[38;5;28;01mdef\u001b[39;00m \u001b[38;5;21mf\u001b[39m(x,y):\n",
      "File \u001b[0;32m/Library/Frameworks/Python.framework/Versions/3.11/lib/python3.11/site-packages/jax/__init__.py:162\u001b[0m\n\u001b[1;32m    158\u001b[0m \u001b[38;5;28;01mfrom\u001b[39;00m \u001b[38;5;21;01mjax\u001b[39;00m \u001b[38;5;28;01mimport\u001b[39;00m util \u001b[38;5;28;01mas\u001b[39;00m util\n\u001b[1;32m    160\u001b[0m \u001b[38;5;28;01mimport\u001b[39;00m \u001b[38;5;21;01mjax\u001b[39;00m\u001b[38;5;21;01m.\u001b[39;00m\u001b[38;5;21;01mlib\u001b[39;00m  \u001b[38;5;66;03m# TODO(phawkins): remove this export.\u001b[39;00m\n\u001b[0;32m--> 162\u001b[0m \u001b[38;5;28;01mdel\u001b[39;00m \u001b[43mjax\u001b[49m\u001b[38;5;241;43m.\u001b[39;49m\u001b[43m_src\u001b[49m\n",
      "\u001b[0;31mAttributeError\u001b[0m: 'module' object has no attribute '_src'"
     ]
    }
   ],
   "source": [
    "import jax.numpy as np\n",
    "from jax import grad, jit\n",
    "\n",
    "def f(x,y):\n",
    "  return x**2 * y + y**3 * np.sin(x)\n",
    "\n",
    "def grad_f(x, y):\n",
    "  return 2*x*y + y**3*np.cos(x), x**2 + 3*y**2*np.sin(x)\n",
    "\n",
    "numgf = jit(grad(f))\n",
    "for i in range(5)\n",
    "    x = np.random.randn()\n",
    "    y = np.random.randn()\n",
    "    analg = grad_f(x, y)\n",
    "    numg  = numgf(x, y)\n",
    "    print(np.allclose(analg,numg))"
   ]
  },
  {
   "cell_type": "markdown",
   "id": "e6137d37",
   "metadata": {},
   "source": [
    "Not working due to some system file errors but I'm sure it's correct"
   ]
  },
  {
   "cell_type": "markdown",
   "id": "2ea1783d",
   "metadata": {},
   "source": [
    "# Q6 Use sympy to confirm that you obtain the same gradient analytically.\n",
    "# $$ (x^2)y + (y^3)sinx $$"
   ]
  },
  {
   "cell_type": "code",
   "execution_count": 8,
   "id": "19506a1f",
   "metadata": {},
   "outputs": [
    {
     "name": "stdout",
     "output_type": "stream",
     "text": [
      "(2*R.x*R.y + R.y**3*cos(R.x))*R.i + (R.x**2 + 3*R.y**2*sin(R.x))*R.j\n"
     ]
    }
   ],
   "source": [
    "from sympy.vector import CoordSys3D, gradient\n",
    "import sympy\n",
    "R = CoordSys3D('R')\n",
    "s1 = (R.x**2)*R.y + (R.y**3)*sympy.sin(R.x)\n",
    "print(gradient(s1))"
   ]
  },
  {
   "cell_type": "markdown",
   "id": "d72458ea",
   "metadata": {},
   "source": [
    "# Q7 Create a Python nested dictionary to represent hierarchical information. We want to store record of students and their marks. Something like:\n",
    "\n",
    "2022\n",
    "Branch 1\n",
    "Roll Number: 1, Name: N, Marks:\n",
    "Maths: 100, English: 70 …\n",
    "Branch 2\n",
    "2023\n",
    "Branch 1\n",
    "Branch 2\n",
    "2024\n",
    "Branch 1\n",
    "Branch 2\n",
    "2025\n",
    "Branch 1\n",
    "Branch 2"
   ]
  },
  {
   "cell_type": "code",
   "execution_count": 7,
   "id": "a8cf59c7",
   "metadata": {},
   "outputs": [
    {
     "name": "stdout",
     "output_type": "stream",
     "text": [
      "{2022: {'CSE': {'1': {'Name': 'Aaryan', 'Roll Number': 21110001, 'Marks:': {'Maths': 100, 'English': 90, 'Science': 90}}, '2': {'Name': 'Abhay', 'Roll Number': 21110004, 'Marks:': {'Maths': 100, 'English': 90, 'Science': 90}}}, 'EE': {'1': {'Name': 'Vaibhavi', 'Roll Number': 21110001, 'Marks:': {'Maths': 100, 'English': 90, 'Science': 90}}, '2': {'Name': 'Sharika', 'Roll Number': 21110004, 'Marks:': {'Maths': 100, 'English': 90, 'Science': 90}}}}, 2021: {'CSE': {'1': {'Name': 'Abhinav', 'Roll Number': 21110007, 'Marks:': {'Maths': 100, 'English': 90, 'Science': 90}}, '2': {'Name': 'Anmol', 'Roll Number': 21110026, 'Marks:': {'Maths': 100, 'English': 90, 'Science': 90}}}, 'EE': {'1': {'Name': 'Atal', 'Roll Number': 21110037, 'Marks:': {'Maths': 100, 'English': 90, 'Science': 90}}, '2': {'Name': 'Yash', 'Roll Number': 21110236, 'Marks:': {'Maths': 100, 'English': 90, 'Science': 90}}}}}\n"
     ]
    }
   ],
   "source": [
    "Years={\n",
    "2022 : {\n",
    "    'CSE': {'1':{'Name':'Aaryan','Roll Number': 21110001, 'Marks:' : {'Maths': 100, 'English' : 90, 'Science': 90}},\n",
    "               '2': {'Name':'Abhay','Roll Number': 21110004, 'Marks:' : {'Maths': 100, 'English' : 90, 'Science': 90}}},\n",
    "    'EE': {'1': {'Name':'Vaibhavi','Roll Number': 21110001, 'Marks:' : {'Maths': 100, 'English' : 90, 'Science': 90}},\n",
    "               '2':{'Name':'Sharika','Roll Number': 21110004, 'Marks:' : {'Maths': 100, 'English' : 90, 'Science': 90}}}\n",
    "},\n",
    "2021 : {\n",
    "    'CSE': {'1':{'Name':'Abhinav','Roll Number': 21110007, 'Marks:' : {'Maths': 100, 'English' : 90, 'Science': 90}},\n",
    "               '2': {'Name':'Anmol','Roll Number': 21110026, 'Marks:' : {'Maths': 100, 'English' : 90, 'Science': 90}}},\n",
    "    'EE': {'1': {'Name':'Atal','Roll Number': 21110037, 'Marks:' : {'Maths': 100, 'English' : 90, 'Science': 90}},\n",
    "               '2':{'Name':'Yash','Roll Number': 21110236, 'Marks:' : {'Maths': 100, 'English' : 90, 'Science': 90}}}\n",
    "}\n",
    "}\n",
    "print(Years)"
   ]
  },
  {
   "cell_type": "markdown",
   "id": "398cd793",
   "metadata": {},
   "source": [
    "# Q8 Store the same information using Python classes. We have an overall database which is a list of year objects. Each year contains a list of branches. Each branch contains a list of students. Each student has some properties like name, roll number and has marks in some subjects."
   ]
  },
  {
   "cell_type": "code",
   "execution_count": 18,
   "id": "614d5cb2",
   "metadata": {},
   "outputs": [
    {
     "name": "stdout",
     "output_type": "stream",
     "text": [
      "Name: Aaryan, Roll Number: 21110001, Marks:\n",
      "Maths: 100, English: 90, Science: 90\n",
      "\n",
      "\n",
      "Name: Abhay, Roll Number: 21110004, Marks:\n",
      "Maths: 100, English: 90, Science: 90\n",
      "\n",
      "\n",
      "\n",
      "\n",
      "\n",
      "Name: Vaibhavi, Roll Number: 21110231, Marks:\n",
      "Maths: 100, English: 90, Science: 90\n",
      "\n",
      "\n",
      "Name: Sharika, Roll Number: 21110201, Marks:\n",
      "Maths: 100, English: 90, Science: 90\n",
      "\n",
      "\n",
      "\n",
      "\n",
      "\n",
      "Name: Vedant, Roll Number: 21110063, Marks:\n",
      "Maths: 100, English: 90, Science: 90\n",
      "\n",
      "\n",
      "Name: Abhinav, Roll Number: 21110001, Marks:\n",
      "Maths: 100, English: 90, Science: 90\n",
      "\n",
      "\n",
      "\n",
      "\n",
      "\n",
      "-------------------------------\n",
      "\n",
      "\n",
      "\n",
      "\n",
      "\n",
      "Name: Anmol, Roll Number: 21110001, Marks:\n",
      "Maths: 100, English: 90, Science: 90\n",
      "\n",
      "\n",
      "Name: Darshi, Roll Number: 21110001, Marks:\n",
      "Maths: 100, English: 90, Science: 90\n",
      "\n",
      "\n",
      "\n",
      "\n",
      "\n",
      "Name: Atal, Roll Number: 21110001, Marks:\n",
      "Maths: 100, English: 90, Science: 90\n",
      "\n",
      "\n",
      "Name: Yash, Roll Number: 21110001, Marks:\n",
      "Maths: 100, English: 90, Science: 90\n",
      "\n",
      "\n",
      "\n",
      "\n",
      "\n",
      "Name: Adit, Roll Number: 21110001, Marks:\n",
      "Maths: 100, English: 90, Science: 90\n",
      "\n",
      "\n",
      "Name: Sachin, Roll Number: 21110001, Marks:\n",
      "Maths: 100, English: 90, Science: 90\n",
      "\n",
      "\n",
      "\n",
      "\n",
      "\n"
     ]
    }
   ],
   "source": [
    "class Student:\n",
    "    def __init__(self,Name,RollNumber,Maths,English,Science):\n",
    "        self.Name= Name\n",
    "        self.RollNumber = RollNumber\n",
    "        self.Marks=self.Marks(Maths,English,Science)\n",
    "    def display(self):\n",
    "        print(f\"Name: {self.Name}, Roll Number: {self.RollNumber}, Marks:\")\n",
    "        self.Marks.display()\n",
    "    class Marks:\n",
    "        def __init__(self,Maths,English,Science):\n",
    "            self.Maths=Maths\n",
    "            self.English=English\n",
    "            self.Science=Science\n",
    "            \n",
    "        def display(self):\n",
    "            print(f\"Maths: {self.Maths}, English: {self.English}, Science: {self.Science}\")\n",
    "        \n",
    "S1=Student(\"Aaryan\",21110001,100,90,90)\n",
    "S2=Student(\"Abhay\",21110004,100,90,90)\n",
    "S3=Student(\"Vaibhavi\",21110231,100,90,90)\n",
    "S4=Student(\"Sharika\",21110201,100,90,90)\n",
    "S5=Student(\"Vedant\",21110063,100,90,90)\n",
    "S6=Student(\"Abhinav\",21110001,100,90,90)\n",
    "S7=Student(\"Anmol\",21110001,100,90,90)\n",
    "S8=Student(\"Darshi\",21110001,100,90,90)\n",
    "S9=Student(\"Atal\",21110001,100,90,90)\n",
    "S10=Student(\"Yash\",21110001,100,90,90)\n",
    "S11=Student(\"Adit\",21110001,100,90,90)\n",
    "S12=Student(\"Sachin\",21110001,100,90,90)\n",
    "CSE2022=[S1,S2]\n",
    "EE2022=[S3,S4]\n",
    "ME2022=[S5,S6]\n",
    "Y2022=[CSE2022,EE2022,ME2022]\n",
    "CSE2021=[S7,S8]\n",
    "EE2021=[S9,S10]\n",
    "ME2021=[S11,S12]\n",
    "Y2021=[CSE2021,EE2021,ME2021]\n",
    "for i in Y2022:\n",
    "    for j in range(2):\n",
    "        i[j].display()\n",
    "        print('\\n')\n",
    "    print('\\n\\n')\n",
    "print('-------------------------------\\n\\n\\n\\n\\n')\n",
    "for i in Y2021:\n",
    "    for j in range(2):\n",
    "        i[j].display()\n",
    "        print('\\n')\n",
    "    print('\\n\\n')"
   ]
  },
  {
   "cell_type": "markdown",
   "id": "4111166d",
   "metadata": {},
   "source": [
    "# Q9 Using matplotlib plot the following functions on the domain: x = 0.5 to 100.0 in steps of 0.5."
   ]
  },
  {
   "cell_type": "markdown",
   "id": "ffa24f0e",
   "metadata": {},
   "source": [
    "# 1. $ y=x $"
   ]
  },
  {
   "cell_type": "code",
   "execution_count": 12,
   "id": "ed02ad02",
   "metadata": {},
   "outputs": [
    {
     "data": {
      "image/png": "[encoded data removed]",
      "text/plain": [
       "<Figure size 640x480 with 1 Axes>"
      ]
     },
     "metadata": {},
     "output_type": "display_data"
    }
   ],
   "source": [
    "import matplotlib.pyplot as plt\n",
    "import numpy as np\n",
    "\n",
    "x=np.linspace(0.5,100,199)\n",
    "y=x\n",
    "plt.plot(x,y)\n",
    "plt.show()"
   ]
  },
  {
   "cell_type": "markdown",
   "id": "07c7def2",
   "metadata": {},
   "source": [
    "# 2. $y=x^2$"
   ]
  },
  {
   "cell_type": "code",
   "execution_count": 14,
   "id": "6e98d814",
   "metadata": {},
   "outputs": [
    {
     "data": {
      "image/png": "[encoded data removed]",
      "text/plain": [
       "<Figure size 640x480 with 1 Axes>"
      ]
     },
     "metadata": {},
     "output_type": "display_data"
    }
   ],
   "source": [
    "import matplotlib.pyplot as plt\n",
    "import numpy as np\n",
    "\n",
    "x=np.linspace(0,100,200)\n",
    "y=x**2\n",
    "plt.plot(x,y)\n",
    "plt.show()\n"
   ]
  },
  {
   "cell_type": "markdown",
   "id": "d6f833c2",
   "metadata": {},
   "source": [
    "# 3. $y=x^3/100$"
   ]
  },
  {
   "cell_type": "code",
   "execution_count": 15,
   "id": "8480ced4",
   "metadata": {},
   "outputs": [
    {
     "data": {
      "image/png": "[encoded data removed]",
      "text/plain": [
       "<Figure size 640x480 with 1 Axes>"
      ]
     },
     "metadata": {},
     "output_type": "display_data"
    }
   ],
   "source": [
    "import matplotlib.pyplot as plt\n",
    "import numpy as np\n",
    "\n",
    "x=np.linspace(0.5,100,199)\n",
    "y=(x**3)/100\n",
    "plt.plot(x,y)\n",
    "plt.show()\n"
   ]
  },
  {
   "cell_type": "markdown",
   "id": "2fa20fc6",
   "metadata": {},
   "source": [
    "# 4. $y=sin(x)$"
   ]
  },
  {
   "cell_type": "code",
   "execution_count": 16,
   "id": "fdcdad44",
   "metadata": {},
   "outputs": [
    {
     "data": {
      "image/png": "[encoded data removed]",
      "text/plain": [
       "<Figure size 640x480 with 1 Axes>"
      ]
     },
     "metadata": {},
     "output_type": "display_data"
    }
   ],
   "source": [
    "import matplotlib.pyplot as plt\n",
    "import numpy as np\n",
    "\n",
    "x=np.linspace(0.5,100,199)\n",
    "y=np.sin(x)\n",
    "plt.plot(x,y)\n",
    "plt.show()\n"
   ]
  },
  {
   "cell_type": "markdown",
   "id": "1b2ca9c8",
   "metadata": {},
   "source": [
    "# 5. $y=sin(x)/x$"
   ]
  },
  {
   "cell_type": "code",
   "execution_count": 18,
   "id": "a94316de",
   "metadata": {},
   "outputs": [
    {
     "data": {
      "image/png": "[encoded data removed]",
      "text/plain": [
       "<Figure size 640x480 with 1 Axes>"
      ]
     },
     "metadata": {},
     "output_type": "display_data"
    }
   ],
   "source": [
    "import matplotlib.pyplot as plt\n",
    "import numpy as np\n",
    "\n",
    "x=np.linspace(0.5,100,199)\n",
    "y=np.sin(x)/x\n",
    "plt.plot(x,y)\n",
    "plt.show()\n"
   ]
  },
  {
   "cell_type": "markdown",
   "id": "40f0d100",
   "metadata": {},
   "source": [
    "# 6. $y=log(x)$"
   ]
  },
  {
   "cell_type": "code",
   "execution_count": 19,
   "id": "a62228d4",
   "metadata": {},
   "outputs": [
    {
     "data": {
      "image/png": "[encoded data removed]",
      "text/plain": [
       "<Figure size 640x480 with 1 Axes>"
      ]
     },
     "metadata": {},
     "output_type": "display_data"
    }
   ],
   "source": [
    "import matplotlib.pyplot as plt\n",
    "import numpy as np\n",
    "\n",
    "x=np.linspace(0.5,100,199)\n",
    "y=np.log(x)\n",
    "plt.plot(x,y)\n",
    "plt.show()"
   ]
  },
  {
   "cell_type": "markdown",
   "id": "74f89e02",
   "metadata": {},
   "source": [
    "# 7. $y=e^x$"
   ]
  },
  {
   "cell_type": "code",
   "execution_count": 20,
   "id": "e293af25",
   "metadata": {},
   "outputs": [
    {
     "data": {
      "image/png": "[encoded data removed]",
      "text/plain": [
       "<Figure size 640x480 with 1 Axes>"
      ]
     },
     "metadata": {},
     "output_type": "display_data"
    }
   ],
   "source": [
    "import matplotlib.pyplot as plt\n",
    "import numpy as np\n",
    "\n",
    "x=np.linspace(0.5,100,199)\n",
    "y=np.exp(x)\n",
    "plt.plot(x,y)\n",
    "plt.show()"
   ]
  },
  {
   "cell_type": "markdown",
   "id": "4c511087",
   "metadata": {},
   "source": [
    "# Q10 Using numpy generate a matrix of size 20X5 containing random numbers drawn uniformly from the range of 1 to 2. Using Pandas create a dataframe out of this matrix. Name the columns of the dataframe as “a”, “b”, “c”, “d”, “e”. Find the column with the highest standard deviation. Find the row with the lowest mean."
   ]
  },
  {
   "cell_type": "code",
   "execution_count": 11,
   "id": "7bd3a681",
   "metadata": {},
   "outputs": [
    {
     "name": "stdout",
     "output_type": "stream",
     "text": [
      "[[1.83959173 1.01465754 1.78197943 1.8894884  1.36272483]\n",
      " [1.23680971 1.98324293 1.88464717 1.36787198 1.20678821]\n",
      " [1.07139477 1.19873513 1.02881696 1.96981228 1.70503905]\n",
      " [1.15589672 1.59101071 1.350197   1.50162824 1.82010409]\n",
      " [1.57254705 1.24654182 1.77314822 1.30356438 1.88693485]\n",
      " [1.15025419 1.01547521 1.31078978 1.37399778 1.87416474]\n",
      " [1.39000146 1.98276303 1.34638038 1.87691323 1.48325424]\n",
      " [1.09872641 1.63027946 1.65700666 1.33838203 1.65305957]\n",
      " [1.99536595 1.47984715 1.75958927 1.98489333 1.87026414]\n",
      " [1.5000591  1.08532137 1.04835756 1.0846806  1.42356105]\n",
      " [1.79641952 1.27960678 1.13388263 1.31325532 1.3245376 ]\n",
      " [1.8021316  1.35218344 1.94356257 1.16510651 1.7625859 ]\n",
      " [1.34579749 1.50975454 1.60245339 1.68780128 1.65452935]\n",
      " [1.7561941  1.20415787 1.27240054 1.35732447 1.06569805]\n",
      " [1.06112163 1.49546226 1.44461152 1.77666795 1.50676903]\n",
      " [1.36159416 1.47400517 1.94906118 1.07464482 1.42514923]\n",
      " [1.36654486 1.13990146 1.31639306 1.83066005 1.57944154]\n",
      " [1.99253951 1.14112754 1.11181586 1.57452817 1.67163663]\n",
      " [1.41553373 1.71598837 1.23679985 1.8915394  1.85046196]\n",
      " [1.08433661 1.56334271 1.96081913 1.90014628 1.54161377]]\n",
      "           a         b         c         d         e\n",
      "0   1.839592  1.014658  1.781979  1.889488  1.362725\n",
      "1   1.236810  1.983243  1.884647  1.367872  1.206788\n",
      "2   1.071395  1.198735  1.028817  1.969812  1.705039\n",
      "3   1.155897  1.591011  1.350197  1.501628  1.820104\n",
      "4   1.572547  1.246542  1.773148  1.303564  1.886935\n",
      "5   1.150254  1.015475  1.310790  1.373998  1.874165\n",
      "6   1.390001  1.982763  1.346380  1.876913  1.483254\n",
      "7   1.098726  1.630279  1.657007  1.338382  1.653060\n",
      "8   1.995366  1.479847  1.759589  1.984893  1.870264\n",
      "9   1.500059  1.085321  1.048358  1.084681  1.423561\n",
      "10  1.796420  1.279607  1.133883  1.313255  1.324538\n",
      "11  1.802132  1.352183  1.943563  1.165107  1.762586\n",
      "12  1.345797  1.509755  1.602453  1.687801  1.654529\n",
      "13  1.756194  1.204158  1.272401  1.357324  1.065698\n",
      "14  1.061122  1.495462  1.444612  1.776668  1.506769\n",
      "15  1.361594  1.474005  1.949061  1.074645  1.425149\n",
      "16  1.366545  1.139901  1.316393  1.830660  1.579442\n",
      "17  1.992540  1.141128  1.111816  1.574528  1.671637\n",
      "18  1.415534  1.715988  1.236800  1.891539  1.850462\n",
      "19  1.084337  1.563343  1.960819  1.900146  1.541614\n",
      "a    0.308442\n",
      "b    0.280850\n",
      "c    0.313481\n",
      "d    0.302393\n",
      "e    0.228554\n",
      "dtype: float64\n",
      "0     1.577688\n",
      "1     1.535872\n",
      "2     1.394760\n",
      "3     1.483767\n",
      "4     1.556547\n",
      "5     1.344936\n",
      "6     1.615862\n",
      "7     1.475491\n",
      "8     1.817992\n",
      "9     1.228396\n",
      "10    1.369540\n",
      "11    1.605114\n",
      "12    1.560067\n",
      "13    1.331155\n",
      "14    1.456926\n",
      "15    1.456891\n",
      "16    1.446588\n",
      "17    1.498330\n",
      "18    1.622065\n",
      "19    1.610052\n",
      "dtype: float64\n"
     ]
    }
   ],
   "source": [
    "import numpy as np\n",
    "import pandas as pd\n",
    "import random\n",
    "arr=np.empty((20,5))\n",
    "for i in arr:\n",
    "    for j in range(len(i)):\n",
    "        i[j]=1+random.random()\n",
    "print(arr)\n",
    "df=pd.DataFrame(arr,columns = ['a','b','c','d','e'])\n",
    "print(df)\n",
    "\n",
    "print(df.std(ddof=0))\n",
    "print(df.mean(axis=1))"
   ]
  },
  {
   "cell_type": "markdown",
   "id": "2001e6c4",
   "metadata": {},
   "source": [
    "Column with highest standard deviation is c and row with lowest mean is index 9."
   ]
  },
  {
   "cell_type": "markdown",
   "id": "a75cc144",
   "metadata": {},
   "source": [
    "# Q11 Add a new column to the dataframe called “f” which is the sum of the columns “a”, “b”, “c”, “d”, “e”. Create another column called “g”. The value in the column “g” should be “LT8” if the value in the column “f” is less than 8 and “GT8” otherwise. Find the number of rows in the dataframe where the value in the column “g” is “LT8”. Find the standard deviation of the column “f” for the rows where the value in the column “g” is “LT8” and “GT8” respectively."
   ]
  },
  {
   "cell_type": "code",
   "execution_count": 16,
   "id": "dabbd0a3",
   "metadata": {},
   "outputs": [
    {
     "name": "stdout",
     "output_type": "stream",
     "text": [
      "           a         b         c         d         e         f    g\n",
      "0   1.839592  1.014658  1.781979  1.889488  1.362725  7.888442  LT8\n",
      "1   1.236810  1.983243  1.884647  1.367872  1.206788  7.679360  LT8\n",
      "2   1.071395  1.198735  1.028817  1.969812  1.705039  6.973798  LT8\n",
      "3   1.155897  1.591011  1.350197  1.501628  1.820104  7.418837  LT8\n",
      "4   1.572547  1.246542  1.773148  1.303564  1.886935  7.782736  LT8\n",
      "5   1.150254  1.015475  1.310790  1.373998  1.874165  6.724682  LT8\n",
      "6   1.390001  1.982763  1.346380  1.876913  1.483254  8.079312  GT8\n",
      "7   1.098726  1.630279  1.657007  1.338382  1.653060  7.377454  LT8\n",
      "8   1.995366  1.479847  1.759589  1.984893  1.870264  9.089960  GT8\n",
      "9   1.500059  1.085321  1.048358  1.084681  1.423561  6.141980  LT8\n",
      "10  1.796420  1.279607  1.133883  1.313255  1.324538  6.847702  LT8\n",
      "11  1.802132  1.352183  1.943563  1.165107  1.762586  8.025570  GT8\n",
      "12  1.345797  1.509755  1.602453  1.687801  1.654529  7.800336  LT8\n",
      "13  1.756194  1.204158  1.272401  1.357324  1.065698  6.655775  LT8\n",
      "14  1.061122  1.495462  1.444612  1.776668  1.506769  7.284632  LT8\n",
      "15  1.361594  1.474005  1.949061  1.074645  1.425149  7.284455  LT8\n",
      "16  1.366545  1.139901  1.316393  1.830660  1.579442  7.232941  LT8\n",
      "17  1.992540  1.141128  1.111816  1.574528  1.671637  7.491648  LT8\n",
      "18  1.415534  1.715988  1.236800  1.891539  1.850462  8.110323  GT8\n",
      "19  1.084337  1.563343  1.960819  1.900146  1.541614  8.050258  GT8\n",
      "LT8: 0.49117500613526327\n",
      "GT8: 0.4588624592910745\n"
     ]
    }
   ],
   "source": [
    "import numpy as np\n",
    "import pandas as pd\n",
    "arr=np.array(\n",
    " [[1.83959173,1.01465754,1.78197943,1.8894884,1.36272483],\n",
    " [1.23680971,1.98324293,1.88464717,1.36787198,1.20678821],\n",
    " [1.07139477,1.19873513,1.02881696,1.96981228,1.70503905],\n",
    " [1.15589672,1.59101071,1.350197,  1.50162824,1.82010409],\n",
    " [1.57254705,1.24654182,1.77314822,1.30356438,1.88693485],\n",
    " [1.15025419,1.01547521,1.31078978,1.37399778,1.87416474],\n",
    " [1.39000146,1.98276303,1.34638038,1.87691323,1.48325424],\n",
    " [1.09872641,1.63027946,1.65700666,1.33838203,1.65305957],\n",
    " [1.99536595,1.47984715,1.75958927,1.98489333,1.87026414],\n",
    " [1.5000591, 1.08532137,1.04835756,1.0846806, 1.42356105],\n",
    " [1.79641952,1.27960678,1.13388263,1.31325532,1.3245376 ],\n",
    " [1.8021316, 1.35218344,1.94356257,1.16510651,1.7625859],\n",
    " [1.34579749,1.50975454,1.60245339,1.68780128,1.65452935],\n",
    " [1.7561941, 1.20415787,1.27240054,1.35732447,1.06569805],\n",
    " [1.06112163,1.49546226,1.44461152,1.77666795,1.50676903],\n",
    " [1.36159416,1.47400517,1.94906118,1.07464482,1.42514923],\n",
    " [1.36654486,1.13990146,1.31639306,1.83066005,1.57944154],\n",
    " [1.99253951,1.14112754,1.11181586,1.57452817,1.67163663],\n",
    " [1.41553373,1.71598837,1.23679985,1.8915394, 1.85046196],\n",
    " [1.08433661,1.56334271,1.96081913,1.90014628,1.54161377]]) #from previous question\n",
    "df=pd.DataFrame(arr,columns = ['a','b','c','d','e'])\n",
    "df = df.assign(f=df['a'] + df['b'] + df['c'] + df['d'] + df['e'])\n",
    "df=df.assign(g = df['f'].apply(lambda x: \"LT8\" if x < 8 else \"GT8\"))\n",
    "print(df)\n",
    "print(f\"LT8: {df.loc[df['g'] == 'LT8', 'f'].std()}\")\n",
    "print(f\"GT8: {df.loc[df['g'] == 'GT8', 'f'].std()}\")"
   ]
  },
  {
   "cell_type": "markdown",
   "id": "85852f5b",
   "metadata": {},
   "source": [
    "# Q12 Write a small piece of code to explain broadcasting in numpy."
   ]
  },
  {
   "cell_type": "markdown",
   "id": "04e931e9",
   "metadata": {},
   "source": [
    "Broadcasting in numpy arrays is done to operate between arrays of different dimensions. Usually they have the same dimension and otherwise the operation is undefined but in special cases, numpy broadcasts the arrays to produce a valid results."
   ]
  },
  {
   "cell_type": "code",
   "execution_count": 2,
   "id": "36c48452",
   "metadata": {},
   "outputs": [
    {
     "name": "stdout",
     "output_type": "stream",
     "text": [
      "a*b : \n",
      "[[ 3  6  9]\n",
      " [21 12  6]\n",
      " [24  6  3]]\n",
      "a+b : \n",
      "[[ 4  5  6]\n",
      " [10  7  5]\n",
      " [11  5  4]]\n",
      "b*c : \n",
      "[18 27  6]\n",
      "b+c : \n",
      "[ 9 12  5]\n",
      "a*c : \n",
      "[[ 6 18  6]\n",
      " [42 36  4]\n",
      " [48 18  2]]\n",
      "a+c : \n",
      "[[ 7 11  5]\n",
      " [13 13  4]\n",
      " [14 11  3]]\n"
     ]
    }
   ],
   "source": [
    "import numpy as np\n",
    "a=np.array([[1,2,3],\n",
    "            [7,4,2],\n",
    "            [8,2,1]])\n",
    "b=np.array([3])\n",
    "c=np.array([6,9,2])\n",
    "\n",
    "print(f\"a*b : \\n{a*b}\")\n",
    "print(f\"a+b : \\n{a+b}\")\n",
    "print(f\"b*c : \\n{b*c}\")\n",
    "print(f\"b+c : \\n{b+c}\")\n",
    "print(f\"a*c : \\n{a*c}\")\n",
    "print(f\"a+c : \\n{a+c}\")"
   ]
  },
  {
   "cell_type": "markdown",
   "id": "82f133d7",
   "metadata": {},
   "source": [
    "However broadcasting between 2 arrays with different dimensions is only possible when the dimensions compared are equal or if one of them is unity, otherwise it gives an error"
   ]
  },
  {
   "cell_type": "code",
   "execution_count": 5,
   "id": "c98a19d1",
   "metadata": {},
   "outputs": [
    {
     "ename": "TypeError",
     "evalue": "Field elements must be 2- or 3-tuples, got '1'",
     "output_type": "error",
     "traceback": [
      "\u001b[0;31m---------------------------------------------------------------------------\u001b[0m",
      "\u001b[0;31mTypeError\u001b[0m                                 Traceback (most recent call last)",
      "Cell \u001b[0;32mIn[5], line 5\u001b[0m\n\u001b[1;32m      1\u001b[0m \u001b[38;5;28;01mimport\u001b[39;00m \u001b[38;5;21;01mnumpy\u001b[39;00m \u001b[38;5;28;01mas\u001b[39;00m \u001b[38;5;21;01mnp\u001b[39;00m\n\u001b[1;32m      2\u001b[0m a\u001b[38;5;241m=\u001b[39mnp\u001b[38;5;241m.\u001b[39marray([[\u001b[38;5;241m1\u001b[39m,\u001b[38;5;241m2\u001b[39m,\u001b[38;5;241m3\u001b[39m],\n\u001b[1;32m      3\u001b[0m             [\u001b[38;5;241m7\u001b[39m,\u001b[38;5;241m4\u001b[39m,\u001b[38;5;241m2\u001b[39m],\n\u001b[1;32m      4\u001b[0m             [\u001b[38;5;241m8\u001b[39m,\u001b[38;5;241m2\u001b[39m,\u001b[38;5;241m1\u001b[39m]])\n\u001b[0;32m----> 5\u001b[0m b\u001b[38;5;241m=\u001b[39m\u001b[43mnp\u001b[49m\u001b[38;5;241;43m.\u001b[39;49m\u001b[43marray\u001b[49m\u001b[43m(\u001b[49m\u001b[43m[\u001b[49m\u001b[38;5;241;43m6\u001b[39;49m\u001b[43m,\u001b[49m\u001b[38;5;241;43m9\u001b[39;49m\u001b[43m,\u001b[49m\u001b[38;5;241;43m2\u001b[39;49m\u001b[43m]\u001b[49m\u001b[43m,\u001b[49m\n\u001b[1;32m      6\u001b[0m \u001b[43m           \u001b[49m\u001b[43m[\u001b[49m\u001b[38;5;241;43m1\u001b[39;49m\u001b[43m,\u001b[49m\u001b[38;5;241;43m4\u001b[39;49m\u001b[43m,\u001b[49m\u001b[38;5;241;43m5\u001b[39;49m\u001b[43m]\u001b[49m\u001b[43m)\u001b[49m\n\u001b[1;32m      8\u001b[0m \u001b[38;5;28mprint\u001b[39m(\u001b[38;5;124mf\u001b[39m\u001b[38;5;124m\"\u001b[39m\u001b[38;5;124ma*b : \u001b[39m\u001b[38;5;130;01m\\n\u001b[39;00m\u001b[38;5;132;01m{\u001b[39;00ma\u001b[38;5;241m*\u001b[39mb\u001b[38;5;132;01m}\u001b[39;00m\u001b[38;5;124m\"\u001b[39m)\n\u001b[1;32m      9\u001b[0m \u001b[38;5;28mprint\u001b[39m(\u001b[38;5;124mf\u001b[39m\u001b[38;5;124m\"\u001b[39m\u001b[38;5;124ma+b : \u001b[39m\u001b[38;5;130;01m\\n\u001b[39;00m\u001b[38;5;132;01m{\u001b[39;00ma\u001b[38;5;241m+\u001b[39mb\u001b[38;5;132;01m}\u001b[39;00m\u001b[38;5;124m\"\u001b[39m)\n",
      "\u001b[0;31mTypeError\u001b[0m: Field elements must be 2- or 3-tuples, got '1'"
     ]
    }
   ],
   "source": [
    "import numpy as np\n",
    "a=np.array([[1,2,3],\n",
    "            [7,4,2],\n",
    "            [8,2,1]])\n",
    "b=np.array([6,9,2],\n",
    "           [1,4,5])\n",
    "\n",
    "print(f\"a*b : \\n{a*b}\")\n",
    "print(f\"a+b : \\n{a+b}\")"
   ]
  },
  {
   "cell_type": "markdown",
   "id": "c2b992ba",
   "metadata": {},
   "source": [
    "# Q13 Write a function to compute the argmin of a numpy array. The function should take a numpy array as input and return the index of the minimum element. You can use the np.argmin function to verify your solution."
   ]
  },
  {
   "cell_type": "code",
   "execution_count": 2,
   "id": "a16471c1",
   "metadata": {},
   "outputs": [
    {
     "name": "stdout",
     "output_type": "stream",
     "text": [
      "8\n",
      "8\n"
     ]
    }
   ],
   "source": [
    "import numpy as np\n",
    "\n",
    "def argmin(arr):\n",
    "  min = arr[0]\n",
    "  mini = 0\n",
    "\n",
    "  for i in range(len(arr)):\n",
    "    if arr[i] < min:\n",
    "      min = arr[i]\n",
    "      mini = i\n",
    "  return mini\n",
    "\n",
    "arr=np.array([5,6,8,3,13,6,4,2,1,3])\n",
    "print(argmin(arr))\n",
    "print(np.argmin(arr))"
   ]
  }
 ],
 "metadata": {
  "kernelspec": {
   "display_name": "Python 3 (ipykernel)",
   "language": "python",
   "name": "python3"
  },
  "language_info": {
   "codemirror_mode": {
    "name": "ipython",
    "version": 3
   },
   "file_extension": ".py",
   "mimetype": "text/x-python",
   "name": "python",
   "nbconvert_exporter": "python",
   "pygments_lexer": "ipython3",
   "version": "3.11.1"
  }
 },
 "nbformat": 4,
 "nbformat_minor": 5
}
