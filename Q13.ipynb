{
 "cells": [
  {
   "cell_type": "code",
   "execution_count": 2,
   "id": "a16471c1",
   "metadata": {},
   "outputs": [
    {
     "name": "stdout",
     "output_type": "stream",
     "text": [
      "8\n",
      "8\n"
     ]
    }
   ],
   "source": [
    "import numpy as np\n",
    "\n",
    "def argmin(arr):\n",
    "  min = arr[0]\n",
    "  mini = 0\n",
    "\n",
    "  for i in range(len(arr)):\n",
    "    if arr[i] < min:\n",
    "      min = arr[i]\n",
    "      mini = i\n",
    "  return mini\n",
    "\n",
    "arr=np.array([5,6,8,3,13,6,4,2,1,3])\n",
    "print(argmin(arr))\n",
    "print(np.argmin(arr))"
   ]
  }
 ],
 "metadata": {
  "kernelspec": {
   "display_name": "Python 3 (ipykernel)",
   "language": "python",
   "name": "python3"
  },
  "language_info": {
   "codemirror_mode": {
    "name": "ipython",
    "version": 3
   },
   "file_extension": ".py",
   "mimetype": "text/x-python",
   "name": "python",
   "nbconvert_exporter": "python",
   "pygments_lexer": "ipython3",
   "version": "3.11.1"
  }
 },
 "nbformat": 4,
 "nbformat_minor": 5
}
